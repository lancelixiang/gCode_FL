{
 "cells": [
  {
   "cell_type": "code",
   "execution_count": 2,
   "metadata": {},
   "outputs": [],
   "source": [
    "import torch"
   ]
  },
  {
   "cell_type": "code",
   "execution_count": 38,
   "metadata": {},
   "outputs": [],
   "source": [
    "model = torch.load(f'result/2024/model_0.pth', weights_only=False)\n",
    "model0 = torch.load(f'result/2024/model_0.pth', weights_only=False)\n",
    "model1 = torch.load(f'result/2024/model_1.pth', weights_only=False)\n",
    "model2 = torch.load(f'result/2024/model_2.pth', weights_only=False)\n",
    "model3 = torch.load(f'result/2024/model_3.pth', weights_only=False)"
   ]
  },
  {
   "cell_type": "code",
   "execution_count": 39,
   "metadata": {},
   "outputs": [],
   "source": [
    "state_dict = model.state_dict()\n",
    "state_dict0 = model0.state_dict()\n",
    "state_dict1 = model1.state_dict()\n",
    "state_dict2 = model2.state_dict()\n",
    "state_dict3 = model3.state_dict()"
   ]
  },
  {
   "cell_type": "code",
   "execution_count": 73,
   "metadata": {},
   "outputs": [],
   "source": [
    "for k in state_dict:\n",
    "    state_dict[k] = torch.stack([\n",
    "        state_dict0[k],\n",
    "        state_dict1[k],\n",
    "        state_dict2[k],\n",
    "        state_dict3[k],\n",
    "    ]).mean(dim=0)"
   ]
  },
  {
   "cell_type": "code",
   "execution_count": 74,
   "metadata": {},
   "outputs": [
    {
     "data": {
      "text/plain": [
       "torch.Size([1, 1, 2048])"
      ]
     },
     "execution_count": 74,
     "metadata": {},
     "output_type": "execute_result"
    }
   ],
   "source": [
    "state_dict['cls_token'].shape"
   ]
  },
  {
   "cell_type": "code",
   "execution_count": 61,
   "metadata": {},
   "outputs": [
    {
     "data": {
      "text/plain": [
       "torch.Size([1, 1, 2048])"
      ]
     },
     "execution_count": 61,
     "metadata": {},
     "output_type": "execute_result"
    }
   ],
   "source": [
    "state_dict1['cls_token'].shape"
   ]
  },
  {
   "cell_type": "code",
   "execution_count": 62,
   "metadata": {},
   "outputs": [
    {
     "data": {
      "text/plain": [
       "tensor([[ 0.0062, -0.0011, -0.0236,  ...,  0.0220, -0.0128,  0.0051]],\n",
       "       device='cuda:0')"
      ]
     },
     "execution_count": 62,
     "metadata": {},
     "output_type": "execute_result"
    }
   ],
   "source": [
    "state_dict['cls_token']"
   ]
  },
  {
   "cell_type": "code",
   "execution_count": 63,
   "metadata": {},
   "outputs": [
    {
     "data": {
      "text/plain": [
       "tensor([[[ 0.0055, -0.0017, -0.0240,  ...,  0.0210, -0.0109,  0.0043]]],\n",
       "       device='cuda:0')"
      ]
     },
     "execution_count": 63,
     "metadata": {},
     "output_type": "execute_result"
    }
   ],
   "source": [
    "state_dict0['cls_token']"
   ]
  },
  {
   "cell_type": "code",
   "execution_count": 64,
   "metadata": {},
   "outputs": [
    {
     "data": {
      "text/plain": [
       "tensor([[[ 0.0051, -0.0019, -0.0227,  ...,  0.0206, -0.0137,  0.0044]]],\n",
       "       device='cuda:0')"
      ]
     },
     "execution_count": 64,
     "metadata": {},
     "output_type": "execute_result"
    }
   ],
   "source": [
    "state_dict1['cls_token']"
   ]
  },
  {
   "cell_type": "code",
   "execution_count": 65,
   "metadata": {},
   "outputs": [
    {
     "data": {
      "text/plain": [
       "tensor([[[ 0.0071, -0.0001, -0.0233,  ...,  0.0242, -0.0140,  0.0045]]],\n",
       "       device='cuda:0')"
      ]
     },
     "execution_count": 65,
     "metadata": {},
     "output_type": "execute_result"
    }
   ],
   "source": [
    "state_dict2['cls_token']"
   ]
  },
  {
   "cell_type": "code",
   "execution_count": 66,
   "metadata": {},
   "outputs": [
    {
     "data": {
      "text/plain": [
       "tensor([[[ 0.0072, -0.0007, -0.0245,  ...,  0.0220, -0.0129,  0.0073]]],\n",
       "       device='cuda:0')"
      ]
     },
     "execution_count": 66,
     "metadata": {},
     "output_type": "execute_result"
    }
   ],
   "source": [
    "state_dict3['cls_token']"
   ]
  },
  {
   "cell_type": "code",
   "execution_count": 68,
   "metadata": {},
   "outputs": [
    {
     "data": {
      "text/plain": [
       "62.25"
      ]
     },
     "execution_count": 68,
     "metadata": {},
     "output_type": "execute_result"
    }
   ],
   "source": [
    "(55+51+71+72)/4"
   ]
  },
  {
   "cell_type": "code",
   "execution_count": 54,
   "metadata": {},
   "outputs": [
    {
     "data": {
      "text/plain": [
       "[tensor([[[ 0.0055, -0.0017, -0.0240,  ...,  0.0210, -0.0109,  0.0043]]],\n",
       "        device='cuda:0')]"
      ]
     },
     "execution_count": 54,
     "metadata": {},
     "output_type": "execute_result"
    }
   ],
   "source": [
    "[state_dict0['cls_token'].detach()]"
   ]
  },
  {
   "cell_type": "code",
   "execution_count": 72,
   "metadata": {},
   "outputs": [
    {
     "data": {
      "text/plain": [
       "tensor([[[ 0.0062, -0.0011, -0.0236,  ...,  0.0220, -0.0128,  0.0051]]],\n",
       "       device='cuda:0')"
      ]
     },
     "execution_count": 72,
     "metadata": {},
     "output_type": "execute_result"
    }
   ],
   "source": [
    "torch.stack([\n",
    "        state_dict0['cls_token'],\n",
    "        state_dict1['cls_token'],\n",
    "        state_dict2['cls_token'],\n",
    "        state_dict3['cls_token'],\n",
    "    ]).mean(dim=0)"
   ]
  },
  {
   "cell_type": "code",
   "execution_count": 14,
   "metadata": {},
   "outputs": [
    {
     "data": {
      "text/plain": [
       "27"
      ]
     },
     "execution_count": 14,
     "metadata": {},
     "output_type": "execute_result"
    }
   ],
   "source": [
    "len(state_dict)"
   ]
  },
  {
   "cell_type": "code",
   "execution_count": 17,
   "metadata": {},
   "outputs": [
    {
     "name": "stdout",
     "output_type": "stream",
     "text": [
      "cls_token\n",
      "blocks.0.norm1.weight\n",
      "blocks.0.norm1.bias\n",
      "blocks.0.attn.qkv.weight\n",
      "blocks.0.attn.proj.weight\n",
      "blocks.0.attn.proj.bias\n",
      "blocks.0.norm2.weight\n",
      "blocks.0.norm2.bias\n",
      "blocks.0.mlp.fc1.weight\n",
      "blocks.0.mlp.fc1.bias\n",
      "blocks.0.mlp.fc2.weight\n",
      "blocks.0.mlp.fc2.bias\n",
      "blocks.1.norm1.weight\n",
      "blocks.1.norm1.bias\n",
      "blocks.1.attn.qkv.weight\n",
      "blocks.1.attn.proj.weight\n",
      "blocks.1.attn.proj.bias\n",
      "blocks.1.norm2.weight\n",
      "blocks.1.norm2.bias\n",
      "blocks.1.mlp.fc1.weight\n",
      "blocks.1.mlp.fc1.bias\n",
      "blocks.1.mlp.fc2.weight\n",
      "blocks.1.mlp.fc2.bias\n",
      "norm.weight\n",
      "norm.bias\n",
      "slide_head.weight\n",
      "slide_head.bias\n"
     ]
    }
   ],
   "source": [
    "for k in state_dict:\n",
    "    print(k)"
   ]
  },
  {
   "cell_type": "code",
   "execution_count": 21,
   "metadata": {},
   "outputs": [
    {
     "data": {
      "text/plain": [
       "torch.Size([1, 1, 2048])"
      ]
     },
     "execution_count": 21,
     "metadata": {},
     "output_type": "execute_result"
    }
   ],
   "source": [
    "state_dict['cls_token'].shape"
   ]
  },
  {
   "cell_type": "code",
   "execution_count": 22,
   "metadata": {},
   "outputs": [
    {
     "data": {
      "text/plain": [
       "collections.OrderedDict"
      ]
     },
     "execution_count": 22,
     "metadata": {},
     "output_type": "execute_result"
    }
   ],
   "source": [
    "type(state_dict)"
   ]
  },
  {
   "cell_type": "code",
   "execution_count": 30,
   "metadata": {},
   "outputs": [],
   "source": [
    "state_dict['cls_token'] = 1"
   ]
  },
  {
   "cell_type": "code",
   "execution_count": 31,
   "metadata": {},
   "outputs": [
    {
     "data": {
      "text/plain": [
       "1"
      ]
     },
     "execution_count": 31,
     "metadata": {},
     "output_type": "execute_result"
    }
   ],
   "source": [
    "state_dict['cls_token']"
   ]
  },
  {
   "cell_type": "code",
   "execution_count": 32,
   "metadata": {},
   "outputs": [
    {
     "data": {
      "text/plain": [
       "OrderedDict([('cls_token', 1),\n",
       "             ('blocks.0.norm1.weight',\n",
       "              tensor([1.0000, 0.9987, 1.0008,  ..., 0.9994, 1.0032, 0.9999], device='cuda:0')),\n",
       "             ('blocks.0.norm1.bias',\n",
       "              tensor([ 6.2910e-04,  5.4355e-04, -1.7773e-05,  ..., -3.2562e-04,\n",
       "                      -2.0259e-04,  6.1433e-06], device='cuda:0')),\n",
       "             ('blocks.0.attn.qkv.weight',\n",
       "              tensor([[ 4.1729e-03,  4.2027e-05,  1.3835e-02,  ..., -1.9528e-03,\n",
       "                        4.0002e-02, -2.7748e-02],\n",
       "                      [-2.5255e-03,  1.2616e-02,  1.4667e-02,  ...,  1.7314e-02,\n",
       "                       -1.1231e-02,  4.6742e-03],\n",
       "                      [-1.2294e-02, -2.7782e-02,  6.5948e-04,  ...,  2.1454e-02,\n",
       "                        1.4629e-02, -3.3933e-03],\n",
       "                      ...,\n",
       "                      [ 1.9883e-02, -4.0539e-03,  8.2097e-03,  ..., -3.1096e-03,\n",
       "                        7.0767e-04,  7.4559e-03],\n",
       "                      [ 1.0385e-02,  1.0185e-02,  2.6984e-03,  ...,  2.2599e-02,\n",
       "                       -7.1209e-03, -1.4557e-02],\n",
       "                      [-1.0459e-02, -1.5506e-02,  1.8266e-02,  ...,  2.1867e-02,\n",
       "                        1.4933e-02, -3.0665e-02]], device='cuda:0')),\n",
       "             ('blocks.0.attn.proj.weight',\n",
       "              tensor([[-0.0002, -0.0097, -0.0101,  ..., -0.0109,  0.0267,  0.0093],\n",
       "                      [ 0.0086,  0.0253, -0.0126,  ...,  0.0158, -0.0124, -0.0091],\n",
       "                      [-0.0088, -0.0072, -0.0119,  ..., -0.0004,  0.0073,  0.0406],\n",
       "                      ...,\n",
       "                      [ 0.0017, -0.0125,  0.0064,  ..., -0.0152,  0.0183, -0.0029],\n",
       "                      [-0.0200, -0.0099,  0.0007,  ..., -0.0051,  0.0212, -0.0099],\n",
       "                      [-0.0541, -0.0238,  0.0118,  ..., -0.0246,  0.0306,  0.0078]],\n",
       "                     device='cuda:0')),\n",
       "             ('blocks.0.attn.proj.bias',\n",
       "              tensor([-2.5522e-04, -5.8798e-04,  1.3078e-04,  ...,  9.4966e-05,\n",
       "                      -4.7397e-05, -7.5048e-05], device='cuda:0')),\n",
       "             ('blocks.0.norm2.weight',\n",
       "              tensor([1.0010, 0.9996, 0.9996,  ..., 1.0002, 1.0000, 0.9992], device='cuda:0')),\n",
       "             ('blocks.0.norm2.bias',\n",
       "              tensor([-6.6540e-04, -1.1676e-03,  9.5131e-05,  ..., -2.8718e-04,\n",
       "                      -2.8589e-04, -1.9304e-04], device='cuda:0')),\n",
       "             ('blocks.0.mlp.fc1.weight',\n",
       "              tensor([[ 1.7582e-02, -2.0014e-02,  2.8432e-02,  ...,  2.6782e-02,\n",
       "                       -1.9962e-02, -1.7508e-03],\n",
       "                      [ 2.2456e-02,  3.7004e-02, -2.1795e-02,  ...,  1.1892e-02,\n",
       "                       -6.9386e-03, -1.5929e-02],\n",
       "                      [-2.6246e-02,  1.0958e-03,  2.6752e-02,  ..., -4.3505e-02,\n",
       "                        3.2177e-02, -2.8245e-02],\n",
       "                      ...,\n",
       "                      [ 1.6445e-02,  6.7310e-03,  2.8327e-02,  ..., -9.4695e-03,\n",
       "                        2.8661e-02, -2.5577e-02],\n",
       "                      [ 6.8143e-03,  7.6019e-03,  1.4306e-02,  ..., -2.4597e-03,\n",
       "                        7.1095e-03,  1.7555e-02],\n",
       "                      [ 6.2077e-03, -2.7061e-02,  1.2268e-02,  ...,  1.3861e-02,\n",
       "                       -4.5170e-05,  1.0796e-02]], device='cuda:0')),\n",
       "             ('blocks.0.mlp.fc1.bias',\n",
       "              tensor([-2.6496e-05, -8.2008e-04, -7.6672e-05,  ..., -2.2781e-06,\n",
       "                       6.6026e-04, -8.1453e-06], device='cuda:0')),\n",
       "             ('blocks.0.mlp.fc2.weight',\n",
       "              tensor([[-0.0123,  0.0086, -0.0175,  ...,  0.0065, -0.0013,  0.0004],\n",
       "                      [-0.0038,  0.0030,  0.0039,  ..., -0.0064, -0.0120, -0.0320],\n",
       "                      [ 0.0212,  0.0200, -0.0134,  ...,  0.0049,  0.0142,  0.0287],\n",
       "                      ...,\n",
       "                      [-0.0159, -0.0301,  0.0085,  ..., -0.0290, -0.0069,  0.0071],\n",
       "                      [-0.0342, -0.0459,  0.0005,  ...,  0.0079, -0.0106,  0.0153],\n",
       "                      [-0.0078,  0.0101,  0.0365,  ..., -0.0245, -0.0234,  0.0134]],\n",
       "                     device='cuda:0')),\n",
       "             ('blocks.0.mlp.fc2.bias',\n",
       "              tensor([-2.1413e-04,  2.6875e-04,  1.7853e-04,  ..., -6.8405e-05,\n",
       "                       8.2014e-05, -1.5459e-04], device='cuda:0')),\n",
       "             ('blocks.1.norm1.weight',\n",
       "              tensor([0.9996, 0.9998, 0.9993,  ..., 0.9997, 1.0001, 1.0009], device='cuda:0')),\n",
       "             ('blocks.1.norm1.bias',\n",
       "              tensor([ 4.9028e-04,  7.6041e-05, -2.6922e-05,  ..., -4.7818e-05,\n",
       "                      -7.5218e-05,  2.7027e-04], device='cuda:0')),\n",
       "             ('blocks.1.attn.qkv.weight',\n",
       "              tensor([[-0.0019,  0.0086, -0.0049,  ...,  0.0136, -0.0029,  0.0409],\n",
       "                      [ 0.0269, -0.0024, -0.0041,  ...,  0.0133, -0.0018, -0.0252],\n",
       "                      [ 0.0301, -0.0008, -0.0038,  ...,  0.0085,  0.0062,  0.0233],\n",
       "                      ...,\n",
       "                      [ 0.0229, -0.0403,  0.0105,  ...,  0.0280,  0.0522,  0.0017],\n",
       "                      [ 0.0047, -0.0062,  0.0085,  ..., -0.0031, -0.0081,  0.0084],\n",
       "                      [-0.0115,  0.0283,  0.0313,  ..., -0.0344,  0.0170, -0.0113]],\n",
       "                     device='cuda:0')),\n",
       "             ('blocks.1.attn.proj.weight',\n",
       "              tensor([[ 0.0159,  0.0085,  0.0074,  ...,  0.0353,  0.0093, -0.0016],\n",
       "                      [-0.0375, -0.0147, -0.0085,  ...,  0.0086,  0.0080, -0.0130],\n",
       "                      [-0.0035,  0.0050, -0.0024,  ...,  0.0154,  0.0011, -0.0076],\n",
       "                      ...,\n",
       "                      [ 0.0151,  0.0118,  0.0069,  ...,  0.0008,  0.0188,  0.0293],\n",
       "                      [ 0.0047,  0.0105, -0.0142,  ..., -0.0003, -0.0072, -0.0164],\n",
       "                      [ 0.0034,  0.0024, -0.0209,  ..., -0.0417, -0.0064,  0.0164]],\n",
       "                     device='cuda:0')),\n",
       "             ('blocks.1.attn.proj.bias',\n",
       "              tensor([-3.2105e-04,  4.4873e-04,  1.7907e-04,  ..., -6.8812e-06,\n",
       "                       2.1535e-04, -4.3354e-04], device='cuda:0')),\n",
       "             ('blocks.1.norm2.weight',\n",
       "              tensor([0.9998, 0.9999, 0.9984,  ..., 0.9979, 0.9993, 1.0014], device='cuda:0')),\n",
       "             ('blocks.1.norm2.bias',\n",
       "              tensor([-0.0004,  0.0002,  0.0009,  ..., -0.0005,  0.0003, -0.0004],\n",
       "                     device='cuda:0')),\n",
       "             ('blocks.1.mlp.fc1.weight',\n",
       "              tensor([[ 0.0115,  0.0175,  0.0631,  ..., -0.0348,  0.0031, -0.0391],\n",
       "                      [ 0.0224, -0.0130,  0.0335,  ...,  0.0210,  0.0259,  0.0374],\n",
       "                      [-0.0227,  0.0368, -0.0051,  ...,  0.0045,  0.0017, -0.0010],\n",
       "                      ...,\n",
       "                      [ 0.0111,  0.0363,  0.0174,  ...,  0.0037, -0.0097, -0.0496],\n",
       "                      [ 0.0084,  0.0167, -0.0308,  ..., -0.0068,  0.0076, -0.0104],\n",
       "                      [ 0.0406, -0.0072,  0.0065,  ...,  0.0325, -0.0306,  0.0074]],\n",
       "                     device='cuda:0')),\n",
       "             ('blocks.1.mlp.fc1.bias',\n",
       "              tensor([-5.0730e-04, -1.0044e-03,  1.1451e-04,  ...,  8.1150e-05,\n",
       "                      -2.6526e-04, -5.6374e-05], device='cuda:0')),\n",
       "             ('blocks.1.mlp.fc2.weight',\n",
       "              tensor([[-0.0280,  0.0345, -0.0120,  ...,  0.0166,  0.0437,  0.0356],\n",
       "                      [-0.0500, -0.0119,  0.0073,  ..., -0.0181,  0.0207,  0.0324],\n",
       "                      [-0.0095, -0.0063,  0.0082,  ..., -0.0367, -0.0074, -0.0118],\n",
       "                      ...,\n",
       "                      [ 0.0196, -0.0007, -0.0394,  ..., -0.0014, -0.0224, -0.0065],\n",
       "                      [ 0.0242, -0.0204, -0.0034,  ...,  0.0094, -0.0489, -0.0019],\n",
       "                      [ 0.0284,  0.0250, -0.0170,  ..., -0.0299,  0.0054, -0.0154]],\n",
       "                     device='cuda:0')),\n",
       "             ('blocks.1.mlp.fc2.bias',\n",
       "              tensor([-2.0566e-04,  8.0141e-04, -4.8796e-05,  ...,  2.4096e-04,\n",
       "                       1.7488e-04, -1.6964e-04], device='cuda:0')),\n",
       "             ('norm.weight',\n",
       "              tensor([0.9996, 0.9996, 0.9989,  ..., 0.9990, 0.9984, 0.9984], device='cuda:0')),\n",
       "             ('norm.bias',\n",
       "              tensor([-5.0645e-05, -9.6886e-05,  4.8584e-05,  ...,  1.0971e-04,\n",
       "                       9.5220e-05,  1.3016e-04], device='cuda:0')),\n",
       "             ('slide_head.weight',\n",
       "              tensor([[ 0.0032,  0.0209,  0.0261,  ..., -0.0300, -0.0178,  0.0162],\n",
       "                      [ 0.0404,  0.0113,  0.0029,  ..., -0.0054, -0.0194,  0.0039],\n",
       "                      [ 0.0295, -0.0002, -0.0086,  ..., -0.0049, -0.0146, -0.0109],\n",
       "                      [-0.0270,  0.0133,  0.0202,  ..., -0.0065, -0.0159,  0.0172]],\n",
       "                     device='cuda:0')),\n",
       "             ('slide_head.bias',\n",
       "              tensor([-0.0002,  0.0001, -0.0002,  0.0001], device='cuda:0'))])"
      ]
     },
     "execution_count": 32,
     "metadata": {},
     "output_type": "execute_result"
    }
   ],
   "source": [
    "state_dict"
   ]
  }
 ],
 "metadata": {
  "kernelspec": {
   "display_name": "FL_MobileNet_ViT",
   "language": "python",
   "name": "python3"
  },
  "language_info": {
   "codemirror_mode": {
    "name": "ipython",
    "version": 3
   },
   "file_extension": ".py",
   "mimetype": "text/x-python",
   "name": "python",
   "nbconvert_exporter": "python",
   "pygments_lexer": "ipython3",
   "version": "3.10.15"
  }
 },
 "nbformat": 4,
 "nbformat_minor": 2
}
