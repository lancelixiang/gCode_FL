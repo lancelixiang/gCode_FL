{
 "cells": [
  {
   "cell_type": "code",
   "execution_count": 1,
   "metadata": {},
   "outputs": [],
   "source": [
    "import torch\n",
    "import pandas as pd"
   ]
  },
  {
   "cell_type": "code",
   "execution_count": 2,
   "metadata": {},
   "outputs": [
    {
     "data": {
      "text/plain": [
       "<All keys matched successfully>"
      ]
     },
     "execution_count": 2,
     "metadata": {},
     "output_type": "execute_result"
    }
   ],
   "source": [
    "model0 = torch.load(f'result/2024/model_0.pth', weights_only=False)\n",
    "model1 = torch.load(f'result/2024/model_1.pth', weights_only=False)\n",
    "model2 = torch.load(f'result/2024/model_2.pth', weights_only=False)\n",
    "model3 = torch.load(f'result/2024/model_3.pth', weights_only=False)\n",
    "\n",
    "avgModel = torch.load(f'result/2024/model_0.pth', weights_only=False)\n",
    "state_dict = torch.load(f'result/2024/state_dict.pth', weights_only=True)\n",
    "avgModel.load_state_dict(state_dict)"
   ]
  },
  {
   "cell_type": "code",
   "execution_count": 16,
   "metadata": {},
   "outputs": [],
   "source": [
    "SLIDE_DATA = pd.read_csv(f'data.csv', index_col=0)\n",
    "# data = SLIDE_DATA.loc[:, 'client0'].dropna()\n",
    "# data = SLIDE_DATA.loc[:, 'client1'].dropna()\n",
    "# data = SLIDE_DATA.loc[:, 'client2'].dropna()\n",
    "# data = SLIDE_DATA.loc[:, 'client3'].dropna()\n",
    "data = SLIDE_DATA.loc[:, 'test'].dropna()\n",
    "featuresArr = []\n",
    "labelArr = []\n",
    "for id in data:\n",
    "    insE = torch.load(\n",
    "        f'../dataset/efficientnet_b0/{id}.pth', weights_only=False)\n",
    "    insM = torch.load(\n",
    "        f'../dataset/MambaVision-S-1K/{id}.pth', weights_only=False)\n",
    "    features1 = torch.transpose(insE['features'], 1, 0)\n",
    "    features2 = torch.transpose(insM['features'], 1, 0)\n",
    "    features = torch.cat((features1, features2), dim=2)\n",
    "    featuresArr.append(features)\n",
    "    labelArr.append(torch.tensor([insE['label']]))"
   ]
  },
  {
   "cell_type": "code",
   "execution_count": 4,
   "metadata": {},
   "outputs": [],
   "source": [
    "def check(task, model, xArr, yArr):\n",
    "    from sklearn.metrics import roc_curve, auc\n",
    "    import torch.nn as nn\n",
    "    \n",
    "    criterion = nn.BCEWithLogitsLoss()\n",
    "    model.eval().to('cuda')\n",
    "    running_loss = 0.0\n",
    "    y_arr = []\n",
    "    Y_arr = []\n",
    "    for x, y in zip(xArr, yArr):\n",
    "        x = x.to('cuda')\n",
    "        Y = model(x)\n",
    "\n",
    "        Y_arr.append(Y.detach().cpu()[0])\n",
    "        y_arr.append(y[0])\n",
    "\n",
    "        loss = criterion(Y, y.float().to('cuda'))\n",
    "        running_loss += loss.item()\n",
    "\n",
    "    fpr, tpr, _ = roc_curve(torch.cat(y_arr), torch.cat(Y_arr))\n",
    "    auroc = auc(fpr, tpr)\n",
    "\n",
    "    lossStr = f'{task} test Loss: {running_loss / len(y_arr):.4f}'\n",
    "    aurocStr = f'test auroc: {auroc}'\n",
    "    str = f'{lossStr}, {aurocStr}'\n",
    "    print(str)"
   ]
  },
  {
   "cell_type": "code",
   "execution_count": 17,
   "metadata": {},
   "outputs": [
    {
     "name": "stdout",
     "output_type": "stream",
     "text": [
      "user0 test Loss: 0.9379, test auroc: 0.8071180555555556\n",
      "user1 test Loss: 1.3059, test auroc: 0.7409722222222223\n",
      "user2 test Loss: 0.7560, test auroc: 0.8673611111111111\n",
      "user3 test Loss: 1.4715, test auroc: 0.7894097222222223\n",
      "avg test Loss: 0.7642, test auroc: 0.8279513888888889\n"
     ]
    }
   ],
   "source": [
    "check('user0', model0, featuresArr, labelArr)\n",
    "check('user1', model1, featuresArr, labelArr)\n",
    "check('user2', model2, featuresArr, labelArr)\n",
    "check('user3', model3, featuresArr, labelArr)\n",
    "check('avg', avgModel, featuresArr, labelArr)"
   ]
  },
  {
   "cell_type": "code",
   "execution_count": null,
   "metadata": {},
   "outputs": [],
   "source": []
  },
  {
   "cell_type": "code",
   "execution_count": null,
   "metadata": {},
   "outputs": [],
   "source": []
  },
  {
   "cell_type": "code",
   "execution_count": null,
   "metadata": {},
   "outputs": [],
   "source": [
    "model = torch.load(f'result/2024/model_0.pth', weights_only=False)\n",
    "model0 = torch.load(f'result/2024/model_0.pth', weights_only=False)\n",
    "model1 = torch.load(f'result/2024/model_1.pth', weights_only=False)\n",
    "model2 = torch.load(f'result/2024/model_2.pth', weights_only=False)\n",
    "model3 = torch.load(f'result/2024/model_3.pth', weights_only=False)"
   ]
  },
  {
   "cell_type": "code",
   "execution_count": null,
   "metadata": {},
   "outputs": [],
   "source": [
    "state_dict = model.state_dict()\n",
    "state_dict0 = model0.state_dict()\n",
    "state_dict1 = model1.state_dict()\n",
    "state_dict2 = model2.state_dict()\n",
    "state_dict3 = model3.state_dict()"
   ]
  },
  {
   "cell_type": "code",
   "execution_count": null,
   "metadata": {},
   "outputs": [],
   "source": [
    "for k in state_dict:\n",
    "    state_dict[k] = torch.stack([\n",
    "        state_dict0[k],\n",
    "        state_dict1[k],\n",
    "        state_dict2[k],\n",
    "        state_dict3[k],\n",
    "    ]).mean(dim=0)"
   ]
  },
  {
   "cell_type": "code",
   "execution_count": null,
   "metadata": {},
   "outputs": [],
   "source": [
    "state_dict['cls_token'].shape"
   ]
  },
  {
   "cell_type": "code",
   "execution_count": null,
   "metadata": {},
   "outputs": [],
   "source": [
    "state_dict1['cls_token'].shape"
   ]
  },
  {
   "cell_type": "code",
   "execution_count": null,
   "metadata": {},
   "outputs": [],
   "source": [
    "state_dict['cls_token']"
   ]
  },
  {
   "cell_type": "code",
   "execution_count": null,
   "metadata": {},
   "outputs": [],
   "source": [
    "state_dict0['cls_token']"
   ]
  },
  {
   "cell_type": "code",
   "execution_count": null,
   "metadata": {},
   "outputs": [],
   "source": [
    "state_dict1['cls_token']"
   ]
  },
  {
   "cell_type": "code",
   "execution_count": null,
   "metadata": {},
   "outputs": [],
   "source": [
    "state_dict2['cls_token']"
   ]
  },
  {
   "cell_type": "code",
   "execution_count": null,
   "metadata": {},
   "outputs": [],
   "source": [
    "state_dict3['cls_token']"
   ]
  },
  {
   "cell_type": "code",
   "execution_count": null,
   "metadata": {},
   "outputs": [],
   "source": [
    "(55+51+71+72)/4"
   ]
  },
  {
   "cell_type": "code",
   "execution_count": null,
   "metadata": {},
   "outputs": [],
   "source": [
    "[state_dict0['cls_token'].detach()]"
   ]
  },
  {
   "cell_type": "code",
   "execution_count": null,
   "metadata": {},
   "outputs": [],
   "source": [
    "torch.stack([\n",
    "        state_dict0['cls_token'],\n",
    "        state_dict1['cls_token'],\n",
    "        state_dict2['cls_token'],\n",
    "        state_dict3['cls_token'],\n",
    "    ]).mean(dim=0)"
   ]
  },
  {
   "cell_type": "code",
   "execution_count": null,
   "metadata": {},
   "outputs": [],
   "source": [
    "len(state_dict)"
   ]
  },
  {
   "cell_type": "code",
   "execution_count": null,
   "metadata": {},
   "outputs": [],
   "source": [
    "for k in state_dict:\n",
    "    print(k)"
   ]
  },
  {
   "cell_type": "code",
   "execution_count": null,
   "metadata": {},
   "outputs": [],
   "source": [
    "state_dict['cls_token'].shape"
   ]
  },
  {
   "cell_type": "code",
   "execution_count": null,
   "metadata": {},
   "outputs": [],
   "source": [
    "type(state_dict)"
   ]
  },
  {
   "cell_type": "code",
   "execution_count": null,
   "metadata": {},
   "outputs": [],
   "source": [
    "state_dict['cls_token'] = 1"
   ]
  },
  {
   "cell_type": "code",
   "execution_count": null,
   "metadata": {},
   "outputs": [],
   "source": [
    "state_dict['cls_token']"
   ]
  },
  {
   "cell_type": "code",
   "execution_count": null,
   "metadata": {},
   "outputs": [],
   "source": [
    "state_dict"
   ]
  }
 ],
 "metadata": {
  "kernelspec": {
   "display_name": "FL_MobileNet_ViT",
   "language": "python",
   "name": "python3"
  },
  "language_info": {
   "codemirror_mode": {
    "name": "ipython",
    "version": 3
   },
   "file_extension": ".py",
   "mimetype": "text/x-python",
   "name": "python",
   "nbconvert_exporter": "python",
   "pygments_lexer": "ipython3",
   "version": "3.10.15"
  }
 },
 "nbformat": 4,
 "nbformat_minor": 2
}
